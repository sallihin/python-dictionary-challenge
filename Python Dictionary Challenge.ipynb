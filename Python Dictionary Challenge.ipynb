{
 "cells": [
  {
   "cell_type": "markdown",
   "id": "demographic-metallic",
   "metadata": {},
   "source": [
    "# Overview\n",
    "This project is slightly different than others you have encountered thus far on Codecademy. Instead of a step-by-step tutorial, this project contains a series of open-ended requirements which describe the project you’ll be building. There are many possible ways to correctly fulfill all of these requirements, and you should expect to use the internet, Codecademy, and other resources when you encounter a problem that you cannot easily solve.\n",
    "\n",
    "# Project Goals\n",
    "You will work to write several functions that organize and manipulate data about Category 5 Hurricanes, the strongest hurricanes as rated by their wind speed. Each one of these functions will use a number of parameters, conditionals, lists, dictionaries, string manipulation, and return statements."
   ]
  },
  {
   "cell_type": "markdown",
   "id": "experimental-stephen",
   "metadata": {},
   "source": [
    "***"
   ]
  },
  {
   "cell_type": "markdown",
   "id": "aggressive-network",
   "metadata": {},
   "source": [
    "#### Names of hurricanes"
   ]
  },
  {
   "cell_type": "code",
   "execution_count": 1,
   "id": "still-craps",
   "metadata": {},
   "outputs": [],
   "source": [
    "names = ['Cuba I', 'San Felipe II Okeechobee', 'Bahamas', 'Cuba II', 'CubaBrownsville', 'Tampico', 'Labor Day', 'New England', 'Carol', 'Janet', 'Carla', 'Hattie', 'Beulah', 'Camille', 'Edith', 'Anita', 'David', 'Allen', 'Gilbert', 'Hugo', 'Andrew', 'Mitch', 'Isabel', 'Ivan', 'Emily', 'Katrina', 'Rita', 'Wilma', 'Dean', 'Felix', 'Matthew', 'Irma', 'Maria', 'Michael']\n"
   ]
  },
  {
   "cell_type": "markdown",
   "id": "confident-crystal",
   "metadata": {},
   "source": [
    "#### Months of hurricanes"
   ]
  },
  {
   "cell_type": "code",
   "execution_count": 2,
   "id": "taken-responsibility",
   "metadata": {},
   "outputs": [],
   "source": [
    "months = ['October', 'September', 'September', 'November', 'August', 'September', 'September', 'September', 'September', 'September', 'September', 'October', 'September', 'August', 'September', 'September', 'August', 'August', 'September', 'September', 'August', 'October', 'September', 'September', 'July', 'August', 'September', 'October', 'August', 'September', 'October', 'September', 'September', 'October']"
   ]
  },
  {
   "cell_type": "markdown",
   "id": "eleven-russia",
   "metadata": {},
   "source": [
    "#### Years of hurricanes"
   ]
  },
  {
   "cell_type": "code",
   "execution_count": 3,
   "id": "happy-tracker",
   "metadata": {},
   "outputs": [],
   "source": [
    "years = [1924, 1928, 1932, 1932, 1933, 1933, 1935, 1938, 1953, 1955, 1961, 1961, 1967, 1969, 1971, 1977, 1979, 1980, 1988, 1989, 1992, 1998, 2003, 2004, 2005, 2005, 2005, 2005, 2007, 2007, 2016, 2017, 2017, 2018]"
   ]
  },
  {
   "cell_type": "markdown",
   "id": "double-designer",
   "metadata": {},
   "source": [
    "#### Maximum sustained winds (mph) of hurricanes"
   ]
  },
  {
   "cell_type": "code",
   "execution_count": 4,
   "id": "organic-application",
   "metadata": {},
   "outputs": [],
   "source": [
    "max_sustained_winds = [165, 160, 160, 175, 160, 160, 185, 160, 160, 175, 175, 160, 160, 175, 160, 175, 175, 190, 185, 160, 175, 180, 165, 165, 160, 175, 180, 185, 175, 175, 165, 180, 175, 160]\n"
   ]
  },
  {
   "cell_type": "markdown",
   "id": "genetic-pioneer",
   "metadata": {},
   "source": [
    "#### Areas affected by each hurricane"
   ]
  },
  {
   "cell_type": "code",
   "execution_count": 5,
   "id": "agreed-appearance",
   "metadata": {},
   "outputs": [],
   "source": [
    "areas_affected = [['Central America', 'Mexico', 'Cuba', 'Florida', 'The Bahamas'], ['Lesser Antilles', 'The Bahamas', 'United States East Coast', 'Atlantic Canada'], ['The Bahamas', 'Northeastern United States'], ['Lesser Antilles', 'Jamaica', 'Cayman Islands', 'Cuba', 'The Bahamas', 'Bermuda'], ['The Bahamas', 'Cuba', 'Florida', 'Texas', 'Tamaulipas'], ['Jamaica', 'Yucatn Peninsula'], ['The Bahamas', 'Florida', 'Georgia', 'The Carolinas', 'Virginia'], ['Southeastern United States', 'Northeastern United States', 'Southwestern Quebec'], ['Bermuda', 'New England', 'Atlantic Canada'], ['Lesser Antilles', 'Central America'], ['Texas', 'Louisiana', 'Midwestern United States'], ['Central America'], ['The Caribbean', 'Mexico', 'Texas'], ['Cuba', 'United States Gulf Coast'], ['The Caribbean', 'Central America', 'Mexico', 'United States Gulf Coast'], ['Mexico'], ['The Caribbean', 'United States East coast'], ['The Caribbean', 'Yucatn Peninsula', 'Mexico', 'South Texas'], ['Jamaica', 'Venezuela', 'Central America', 'Hispaniola', 'Mexico'], ['The Caribbean', 'United States East Coast'], ['The Bahamas', 'Florida', 'United States Gulf Coast'], ['Central America', 'Yucatn Peninsula', 'South Florida'], ['Greater Antilles', 'Bahamas', 'Eastern United States', 'Ontario'], ['The Caribbean', 'Venezuela', 'United States Gulf Coast'], ['Windward Islands', 'Jamaica', 'Mexico', 'Texas'], ['Bahamas', 'United States Gulf Coast'], ['Cuba', 'United States Gulf Coast'], ['Greater Antilles', 'Central America', 'Florida'], ['The Caribbean', 'Central America'], ['Nicaragua', 'Honduras'], ['Antilles', 'Venezuela', 'Colombia', 'United States East Coast', 'Atlantic Canada'], ['Cape Verde', 'The Caribbean', 'British Virgin Islands', 'U.S. Virgin Islands', 'Cuba', 'Florida'], ['Lesser Antilles', 'Virgin Islands', 'Puerto Rico', 'Dominican Republic', 'Turks and Caicos Islands'], ['Central America', 'United States Gulf Coast (especially Florida Panhandle)']]"
   ]
  },
  {
   "cell_type": "markdown",
   "id": "effective-aruba",
   "metadata": {},
   "source": [
    "#### Damages USD$ of hurricanes"
   ]
  },
  {
   "cell_type": "code",
   "execution_count": 6,
   "id": "explicit-cement",
   "metadata": {},
   "outputs": [],
   "source": [
    "damages = ['Damages not recorded', '100M', 'Damages not recorded', '40M', '27.9M', '5M', 'Damages not recorded', '306M', '2M', '65.8M', '326M', '60.3M', '208M', '1.42B', '25.4M', 'Damages not recorded', '1.54B', '1.24B', '7.1B', '10B', '26.5B', '6.2B', '5.37B', '23.3B', '1.01B', '125B', '12B', '29.4B', '1.76B', '720M', '15.1B', '64.8B', '91.6B', '25.1B']"
   ]
  },
  {
   "cell_type": "markdown",
   "id": "arbitrary-yugoslavia",
   "metadata": {},
   "source": [
    "#### Deaths for each hurricane"
   ]
  },
  {
   "cell_type": "code",
   "execution_count": 7,
   "id": "imported-inspector",
   "metadata": {},
   "outputs": [],
   "source": [
    "deaths = [90,4000,16,3103,179,184,408,682,5,1023,43,319,688,259,37,11,2068,269,318,107,65,19325,51,124,17,1836,125,87,45,133,603,138,3057,74]"
   ]
  },
  {
   "cell_type": "markdown",
   "id": "focal-detection",
   "metadata": {},
   "source": [
    "***"
   ]
  },
  {
   "cell_type": "markdown",
   "id": "electric-differential",
   "metadata": {},
   "source": [
    "### Task 1 \n",
    "Hurricanes, also known as cyclones or typhoons, are one of the most powerful forces of nature on Earth. Due to climate change caused by human activity, the number and intensity of hurricanes has risen, calling for better preparation by the many communities that are devastated by them. As a concerned environmentalist, you want to look at data about the most powerful hurricanes that have occurred.\n",
    "\n",
    "Begin by looking at the damages list. The list contains strings representing the total cost in USD($) caused by 34 category 5 hurricanes (wind speeds ≥ 157 mph (252 km/h )) in the Atlantic region. For some of the hurricanes, damage data was not recorded (\"Damages not recorded\"), while the rest are written in the format \"Prefix-B/M\", where B stands for billions (1000000000) and M stands for millions (1000000).\n",
    "\n",
    "Write a function that returns a new list of updated damages where the recorded data is converted to float values and the missing data is retained as \"Damages not recorded\".\n",
    "\n",
    "Test your function with the data stored in damages."
   ]
  },
  {
   "cell_type": "code",
   "execution_count": 8,
   "id": "noble-vegetarian",
   "metadata": {},
   "outputs": [
    {
     "name": "stdout",
     "output_type": "stream",
     "text": [
      "['Damages not recorded', 100000000.0, 'Damages not recorded', 40000000.0, 27900000.0, 5000000.0, 'Damages not recorded', 306000000.0, 2000000.0, 65800000.0, 326000000.0, 60300000.0, 208000000.0, 1420000000.0, 25400000.0, 'Damages not recorded', 1540000000.0, 1240000000.0, 7100000000.0, 10000000000.0, 26500000000.0, 6200000000.0, 5370000000.0, 23300000000.0, 1010000000.0, 125000000000.0, 12000000000.0, 29400000000.0, 1760000000.0, 720000000.0, 15100000000.0, 64800000000.0, 91600000000.0, 25100000000.0]\n"
     ]
    }
   ],
   "source": [
    "updated_damages = []\n",
    "conversion = {\"M\": 1000000, \"B\": 1000000000}\n",
    "for i in damages: \n",
    "    if i == \"Damages not recorded\":\n",
    "        updated_damages.append(\"Damages not recorded\")\n",
    "    else: \n",
    "        updated_damages.append(float(i[:-1]) * float(conversion.get(i[-1])))\n",
    "print(updated_damages)"
   ]
  },
  {
   "cell_type": "markdown",
   "id": "suspended-athletics",
   "metadata": {},
   "source": [
    "***"
   ]
  },
  {
   "cell_type": "markdown",
   "id": "imperial-castle",
   "metadata": {},
   "source": [
    "### Task 2 \n",
    "\n",
    "Additional data collected on the 34 strongest Atlantic hurricanes are provided in a series of lists. The data includes:\n",
    "\n",
    "* names: names of the hurricanes\n",
    "* months: months in which the hurricanes occurred\n",
    "* years: years in which the hurricanes occurred\n",
    "* max_sustained_winds: maximum sustained winds (miles per hour) of the hurricanes\n",
    "* areas_affected: list of different areas affected by each of the hurricanes\n",
    "* deaths: total number of deaths caused by each of the hurricanes\n",
    "\n",
    "The data is organized such that the data at each index, from 0 to 33, corresponds to the same hurricane.\n",
    "\n",
    "For example, names[0] yields the “Cuba I” hurricane, which occured in months[0] (October) years[0] (1924).\n",
    "\n",
    "Write a function that constructs a dictionary made out of the lists, where the keys of the dictionary are the names of the hurricanes, and the values are dictionaries themselves containing a key for each piece of data (Name, Month, Year,Max Sustained Wind, Areas Affected, Damage, Death) about the hurricane.\n",
    "\n",
    "Thus the key \"Cuba I\" would have the value: {'Name': 'Cuba I', 'Month': 'October', 'Year': 1924, 'Max Sustained Wind': 165, 'Areas Affected': ['Central America', 'Mexico', 'Cuba', 'Florida', 'The Bahamas'], 'Damage': 'Damages not recorded', 'Deaths': 90}.\n",
    "\n",
    "Test your function on the lists of data provided."
   ]
  },
  {
   "cell_type": "code",
   "execution_count": 117,
   "id": "alternate-cambridge",
   "metadata": {},
   "outputs": [
    {
     "name": "stdout",
     "output_type": "stream",
     "text": [
      "{'Name': 'Cuba I', 'Month': 'October', 'Year': 1924, 'Max Sustained Wind': 165, 'Areas Affected': ['Central America', 'Mexico', 'Cuba', 'Florida', 'The Bahamas'], 'Damage': 'Damages not recorded', 'Deaths': 90}\n"
     ]
    }
   ],
   "source": [
    "hurricanes = {n:{'Name': n, 'Month': m, 'Year': y, 'Max Sustained Wind': w, 'Areas Affected': aa, 'Damage': d, 'Deaths': dd} for n,m,y,w,aa,d,dd in zip(names, months, years, max_sustained_winds, areas_affected, updated_damages, deaths)}\n",
    "# print(hurricanes)\n",
    "print(hurricanes[\"Cuba I\"])"
   ]
  },
  {
   "cell_type": "markdown",
   "id": "conventional-touch",
   "metadata": {},
   "source": [
    "***"
   ]
  },
  {
   "cell_type": "markdown",
   "id": "confused-access",
   "metadata": {},
   "source": [
    "### Task 3\n",
    "\n",
    "\n",
    "In addition to organizing the hurricanes in a dictionary with names as the key, you want to be able to organize the hurricanes by year.\n",
    "\n",
    "Write a function that converts the current dictionary of hurricanes to a new dictionary, where the keys are years and the values are lists containing a dictionary for each hurricane that occurred in that year.\n",
    "\n",
    "For example, the key 1932 would yield the value: [{'Name': 'Bahamas', 'Month': 'September', 'Year': 1932, 'Max Sustained Wind': 160, 'Areas Affected': ['The Bahamas', 'Northeastern United States'], 'Damage': 'Damages not recorded', 'Deaths': 16}, {'Name': 'Cuba II', 'Month': 'November', 'Year': 1932, 'Max Sustained Wind': 175, 'Areas Affected': ['Lesser Antilles', 'Jamaica', 'Cayman Islands', 'Cuba', 'The Bahamas', 'Bermuda'], 'Damage': 40000000.0, 'Deaths': 3103}].\n",
    "\n",
    "Test your function on your hurricane dictionary."
   ]
  },
  {
   "cell_type": "code",
   "execution_count": 39,
   "id": "opening-halifax",
   "metadata": {},
   "outputs": [
    {
     "name": "stdout",
     "output_type": "stream",
     "text": [
      "[{'Name': 'Bahamas', 'Month': 'September', 'Year': 1932, 'Max Sustained Wind': 160, 'Areas Affected': ['The Bahamas', 'Northeastern United States'], 'Damage': 'Damages not recorded', 'Deaths': 16}, {'Name': 'Cuba II', 'Month': 'November', 'Year': 1932, 'Max Sustained Wind': 175, 'Areas Affected': ['Lesser Antilles', 'Jamaica', 'Cayman Islands', 'Cuba', 'The Bahamas', 'Bermuda'], 'Damage': 40000000.0, 'Deaths': 3103}]\n"
     ]
    }
   ],
   "source": [
    "organize_by_year = {}\n",
    "for i in hurricanes: \n",
    "    if hurricanes[i][\"Year\"] not in organize_by_year:\n",
    "        organize_by_year[hurricanes[i][\"Year\"]] = [hurricanes[i]]\n",
    "    else:\n",
    "        organize_by_year[hurricanes[i][\"Year\"]] += [hurricanes[i]]\n",
    "print(organize_by_year[1932])"
   ]
  },
  {
   "cell_type": "markdown",
   "id": "killing-savings",
   "metadata": {},
   "source": [
    "***"
   ]
  },
  {
   "cell_type": "markdown",
   "id": "fatty-orientation",
   "metadata": {},
   "source": [
    "### Task 4\n",
    "\n",
    "You believe that knowing how often each of the areas of the Atlantic are affected by these strong hurricanes is important for making preparations for future hurricanes.\n",
    "\n",
    "Write a function that counts how often each area is listed as an affected area of a hurricane. Store and return the results in a dictionary where the keys are the affected areas and the values are counts of how many times the areas were affected.\n",
    "\n",
    "Test your function on your hurricane dictionary."
   ]
  },
  {
   "cell_type": "code",
   "execution_count": 47,
   "id": "structured-camping",
   "metadata": {},
   "outputs": [
    {
     "name": "stdout",
     "output_type": "stream",
     "text": [
      "{'Central America': 9, 'Mexico': 7, 'Cuba': 6, 'Florida': 6, 'The Bahamas': 7, 'Lesser Antilles': 4, 'United States East Coast': 3, 'Atlantic Canada': 3, 'Northeastern United States': 2, 'Jamaica': 4, 'Cayman Islands': 1, 'Bermuda': 2, 'Texas': 4, 'Tamaulipas': 1, 'Yucatn Peninsula': 3, 'Georgia': 1, 'The Carolinas': 1, 'Virginia': 1, 'Southeastern United States': 1, 'Southwestern Quebec': 1, 'New England': 1, 'Louisiana': 1, 'Midwestern United States': 1, 'The Caribbean': 8, 'United States Gulf Coast': 6, 'United States East coast': 1, 'South Texas': 1, 'Venezuela': 3, 'Hispaniola': 1, 'South Florida': 1, 'Greater Antilles': 2, 'Bahamas': 2, 'Eastern United States': 1, 'Ontario': 1, 'Windward Islands': 1, 'Nicaragua': 1, 'Honduras': 1, 'Antilles': 1, 'Colombia': 1, 'Cape Verde': 1, 'British Virgin Islands': 1, 'U.S. Virgin Islands': 1, 'Virgin Islands': 1, 'Puerto Rico': 1, 'Dominican Republic': 1, 'Turks and Caicos Islands': 1, 'United States Gulf Coast (especially Florida Panhandle)': 1}\n"
     ]
    }
   ],
   "source": [
    "organize_by_areas = {}\n",
    "for i in hurricanes: \n",
    "    for j in  range(len(hurricanes[i][\"Areas Affected\"])):\n",
    "        if hurricanes[i][\"Areas Affected\"][j] not in organize_by_areas:\n",
    "            organize_by_areas[hurricanes[i][\"Areas Affected\"][j]] = 1\n",
    "        else:\n",
    "            organize_by_areas[hurricanes[i][\"Areas Affected\"][j]] += 1\n",
    "print(organize_by_areas)"
   ]
  },
  {
   "cell_type": "markdown",
   "id": "racial-justice",
   "metadata": {},
   "source": [
    "***"
   ]
  },
  {
   "cell_type": "markdown",
   "id": "worst-spank",
   "metadata": {},
   "source": [
    "### Task 5\n",
    "\n",
    "Write a function that finds the area affected by the most hurricanes, and how often it was hit.\n",
    "\n",
    "Test your function on your affected area dictionary."
   ]
  },
  {
   "cell_type": "code",
   "execution_count": 63,
   "id": "royal-sequence",
   "metadata": {},
   "outputs": [
    {
     "name": "stdout",
     "output_type": "stream",
     "text": [
      "Central America is most affected with 9 hits.\n"
     ]
    }
   ],
   "source": [
    "max_hit = max(organize_by_areas, key=organize_by_areas.get) \n",
    "print(\"{max_hit} is most affected with {num} hits.\".format(max_hit=max_hit, num=organize_by_areas[max_hit]))"
   ]
  },
  {
   "cell_type": "markdown",
   "id": "parliamentary-title",
   "metadata": {},
   "source": [
    "***"
   ]
  },
  {
   "cell_type": "markdown",
   "id": "ancient-evening",
   "metadata": {},
   "source": [
    "### Task 6\n",
    "\n",
    "Write a function that finds the hurricane that caused the greatest number of deaths, and how many deaths it caused.\n",
    "\n",
    "Test your function on your hurricane dictionary."
   ]
  },
  {
   "cell_type": "code",
   "execution_count": 115,
   "id": "intensive-emission",
   "metadata": {},
   "outputs": [
    {
     "name": "stdout",
     "output_type": "stream",
     "text": [
      "Mitch is most lethal hurricane with 19325 deaths.\n"
     ]
    }
   ],
   "source": [
    "max_mortality = max(hurricanes, key=lambda v: hurricanes[v]['Deaths'])\n",
    "print(\"{max_mortality} is most lethal hurricane with {num} deaths.\".format(max_mortality=max_mortality, num=hurricanes[max_mortality]['Deaths']))"
   ]
  },
  {
   "cell_type": "markdown",
   "id": "discrete-rental",
   "metadata": {},
   "source": [
    "***"
   ]
  },
  {
   "cell_type": "markdown",
   "id": "documented-driving",
   "metadata": {},
   "source": [
    "### Task 7 \n",
    "\n",
    "Just as hurricanes are rated by their windspeed, you want to try rating hurricanes based on other metrics.\n",
    "\n",
    "Write a function that rates hurricanes on a mortality scale according to the following ratings, where the key is the rating and the value is the upper bound of deaths for that rating.\n",
    "\n",
    "\n",
    "```\n",
    "mortality_scale = {0: 0,\n",
    "                   1: 100,\n",
    "                   2: 500,\n",
    "                   3: 1000,\n",
    "                   4: 10000}\n",
    "```\n",
    "                  \n",
    "For example, a hurricane with a 1 mortality rating would have resulted in greater than 0 but less than or equal to 100 deaths. A hurricane with a 5 mortality rating would have resulted in greater than 10000 deaths.\n",
    "\n",
    "Store the hurricanes in a new dictionary where the keys are mortality ratings and the values are lists containing a dictionary for each hurricane that falls into that mortality rating.\n",
    "\n",
    "Test your function on your hurricane dictionary."
   ]
  },
  {
   "cell_type": "code",
   "execution_count": 142,
   "id": "fifty-browse",
   "metadata": {},
   "outputs": [
    {
     "name": "stdout",
     "output_type": "stream",
     "text": [
      "{0: [], 1: ['Cuba I', 'Bahamas', 'Carol', 'Carla', 'Edith', 'Anita', 'Andrew', 'Isabel', 'Emily', 'Wilma', 'Dean', 'Michael'], 2: ['CubaBrownsville', 'Tampico', 'Labor Day', 'Hattie', 'Camille', 'Allen', 'Gilbert', 'Hugo', 'Ivan', 'Rita', 'Felix', 'Irma'], 3: ['New England', 'Beulah', 'Matthew'], 4: ['San Felipe II Okeechobee', 'Cuba II', 'Janet', 'David', 'Katrina', 'Maria'], 5: ['Mitch']}\n"
     ]
    }
   ],
   "source": [
    "hurricanes_by_mortality = {0:[],1:[],2:[],3:[],4:[],5:[]}\n",
    "\n",
    "for i in hurricanes:\n",
    "    if hurricanes[i]['Deaths'] == 0:\n",
    "        hurricanes_by_mortality[0].append(i)\n",
    "    elif hurricanes[i]['Deaths'] > 0 and hurricanes[i]['Deaths'] <= 100:\n",
    "        hurricanes_by_mortality[1].append(i)\n",
    "    elif hurricanes[i]['Deaths'] > 100 and hurricanes[i]['Deaths'] <= 500:\n",
    "        hurricanes_by_mortality[2].append(i)\n",
    "    elif hurricanes[i]['Deaths'] > 500 and hurricanes[i]['Deaths'] <= 1000:\n",
    "        hurricanes_by_mortality[3].append(i)\n",
    "    elif hurricanes[i]['Deaths'] > 1000 and hurricanes[i]['Deaths'] <= 10000:\n",
    "        hurricanes_by_mortality[4].append(i)\n",
    "    elif hurricanes[i]['Deaths'] > 10000:\n",
    "        hurricanes_by_mortality[5].append(i) \n",
    "        \n",
    "print(hurricanes_by_mortality)"
   ]
  },
  {
   "cell_type": "markdown",
   "id": "regulation-statistics",
   "metadata": {},
   "source": [
    "***"
   ]
  },
  {
   "cell_type": "markdown",
   "id": "humanitarian-malpractice",
   "metadata": {},
   "source": [
    "### Task 8\n",
    "\n",
    "Write a function that finds the hurricane that caused the greatest damage, and how costly it was.\n",
    "\n",
    "Test your function on your hurricane dictionary."
   ]
  },
  {
   "cell_type": "code",
   "execution_count": 199,
   "id": "automated-tuner",
   "metadata": {},
   "outputs": [
    {
     "name": "stdout",
     "output_type": "stream",
     "text": [
      "Katrina\n",
      "Katrina is most costly hurricane with $125000000000.0 in damages.\n"
     ]
    }
   ],
   "source": [
    "max_damage = max(hurricanes, key=lambda v: hurricanes[v]['Damage'] if not isinstance(hurricanes[v]['Damage'], str) else float(0))\n",
    "print(max_damage)\n",
    "print(\"{max_damage} is most costly hurricane with ${num} in damages.\".format(max_damage=max_damage, num=hurricanes[max_damage]['Damage']))"
   ]
  },
  {
   "cell_type": "markdown",
   "id": "overhead-business",
   "metadata": {},
   "source": [
    "***"
   ]
  },
  {
   "cell_type": "markdown",
   "id": "authentic-courage",
   "metadata": {},
   "source": [
    "### Task 9\n",
    "\n",
    "Lastly, you want to rate hurricanes according to how much damage they cause.\n",
    "\n",
    "Write a function that rates hurricanes on a damage scale according to the following ratings, where the key is the rating and the value is the upper bound of damage for that rating.\n",
    "\n",
    "```\n",
    "damage_scale = {0: 0,\n",
    "                1: 100000000,\n",
    "                2: 1000000000,\n",
    "                3: 10000000000,\n",
    "                4: 50000000000}\n",
    "```\n",
    "                \n",
    "For example, a hurricane with a 1 damage rating would have resulted in damages greater than 0 USD but less than or equal to 100000000 USD. A hurricane with a 5 damage rating would have resulted in damages greater than 50000000000 USD (talk about a lot of money).\n",
    "\n",
    "Store the hurricanes in a new dictionary where the keys are damage ratings and the values are lists containing a dictionary for each hurricane that falls into that damage rating.\n",
    "\n",
    "Test your function on your hurricane dictionary."
   ]
  },
  {
   "cell_type": "code",
   "execution_count": 207,
   "id": "formal-meaning",
   "metadata": {},
   "outputs": [
    {
     "name": "stdout",
     "output_type": "stream",
     "text": [
      "{0: [], 1: ['San Felipe II Okeechobee', 'Cuba II', 'CubaBrownsville', 'Tampico', 'Carol', 'Janet', 'Hattie', 'Edith'], 2: ['New England', 'Carla', 'Beulah', 'Felix'], 3: ['Camille', 'David', 'Allen', 'Gilbert', 'Hugo', 'Mitch', 'Isabel', 'Emily', 'Dean'], 4: ['Andrew', 'Ivan', 'Rita', 'Wilma', 'Matthew', 'Michael'], 5: ['Katrina', 'Irma', 'Maria']}\n"
     ]
    }
   ],
   "source": [
    "hurricanes_by_damage = {0:[],1:[],2:[],3:[],4:[],5:[]}\n",
    "\n",
    "for i in hurricanes:\n",
    "    if hurricanes[i]['Damage'] == 'Damages not recorded':\n",
    "        continue\n",
    "    elif hurricanes[i]['Damage'] == 0:\n",
    "        hurricanes_by_damage[0].append(i)\n",
    "    elif hurricanes[i]['Damage'] > 0 and hurricanes[i]['Damage'] <= 100000000:\n",
    "        hurricanes_by_damage[1].append(i)\n",
    "    elif hurricanes[i]['Damage'] > 100000000 and hurricanes[i]['Damage'] <= 1000000000:\n",
    "        hurricanes_by_damage[2].append(i)\n",
    "    elif hurricanes[i]['Damage'] > 1000000000 and hurricanes[i]['Damage'] <= 10000000000:\n",
    "        hurricanes_by_damage[3].append(i)\n",
    "    elif hurricanes[i]['Damage'] > 10000000000 and hurricanes[i]['Damage'] <= 50000000000:\n",
    "        hurricanes_by_damage[4].append(i)\n",
    "    elif hurricanes[i]['Damage'] > 50000000000:\n",
    "        hurricanes_by_damage[5].append(i) \n",
    "        \n",
    "print(hurricanes_by_damage)"
   ]
  }
 ],
 "metadata": {
  "kernelspec": {
   "display_name": "Python 3",
   "language": "python",
   "name": "python3"
  },
  "language_info": {
   "codemirror_mode": {
    "name": "ipython",
    "version": 3
   },
   "file_extension": ".py",
   "mimetype": "text/x-python",
   "name": "python",
   "nbconvert_exporter": "python",
   "pygments_lexer": "ipython3",
   "version": "3.8.5"
  }
 },
 "nbformat": 4,
 "nbformat_minor": 5
}
